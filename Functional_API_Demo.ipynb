{
  "nbformat": 4,
  "nbformat_minor": 0,
  "metadata": {
    "colab": {
      "name": "Functional API Demo",
      "provenance": [],
      "collapsed_sections": []
    },
    "kernelspec": {
      "name": "python3",
      "display_name": "Python 3"
    }
  },
  "cells": [
    {
      "cell_type": "code",
      "metadata": {
        "id": "x_gJz0mSMXYy",
        "colab_type": "code",
        "colab": {}
      },
      "source": [
        "from tensorflow.keras import Input, layers \n",
        "from tensorflow.keras.models import Sequential, Model"
      ],
      "execution_count": null,
      "outputs": []
    },
    {
      "cell_type": "code",
      "metadata": {
        "id": "HlMqhAouNO59",
        "colab_type": "code",
        "colab": {
          "base_uri": "https://localhost:8080/",
          "height": 34
        },
        "outputId": "42fc6108-37c1-4ac1-c61f-d4d22cfad738"
      },
      "source": [
        "input_tensor_1 = Input(shape=(32,)) \n",
        "dense_1 = layers.Dense(32, activation='relu') \n",
        "output_tensor_1 = dense_1(input_tensor_1)\n",
        "output_tensor_1"
      ],
      "execution_count": null,
      "outputs": [
        {
          "output_type": "execute_result",
          "data": {
            "text/plain": [
              "<tf.Tensor 'dense_7/Identity:0' shape=(None, 32) dtype=float32>"
            ]
          },
          "metadata": {
            "tags": []
          },
          "execution_count": 10
        }
      ]
    },
    {
      "cell_type": "code",
      "metadata": {
        "id": "7r-HfqRmNPjg",
        "colab_type": "code",
        "colab": {
          "base_uri": "https://localhost:8080/",
          "height": 34
        },
        "outputId": "48bbc194-c15d-490f-e054-dfdb134ac1a4"
      },
      "source": [
        "input_tensor_2 = Input(shape=(32,)) \n",
        "output_tensor_2 = layers.Dense(32, activation='relu') (input_tensor_2)\n",
        "output_tensor_2"
      ],
      "execution_count": null,
      "outputs": [
        {
          "output_type": "execute_result",
          "data": {
            "text/plain": [
              "<tf.Tensor 'dense_9/Identity:0' shape=(None, 32) dtype=float32>"
            ]
          },
          "metadata": {
            "tags": []
          },
          "execution_count": 12
        }
      ]
    },
    {
      "cell_type": "code",
      "metadata": {
        "id": "lIGZugkIN0wf",
        "colab_type": "code",
        "colab": {
          "base_uri": "https://localhost:8080/",
          "height": 221
        },
        "outputId": "06b47418-a781-4fb5-cdf4-928254c3132f"
      },
      "source": [
        "model_1 = Model(input_tensor_1, output_tensor_1)\n",
        "model_1.summary()"
      ],
      "execution_count": null,
      "outputs": [
        {
          "output_type": "stream",
          "text": [
            "Model: \"model\"\n",
            "_________________________________________________________________\n",
            "Layer (type)                 Output Shape              Param #   \n",
            "=================================================================\n",
            "input_8 (InputLayer)         [(None, 32)]              0         \n",
            "_________________________________________________________________\n",
            "dense_7 (Dense)              (None, 32)                1056      \n",
            "=================================================================\n",
            "Total params: 1,056\n",
            "Trainable params: 1,056\n",
            "Non-trainable params: 0\n",
            "_________________________________________________________________\n"
          ],
          "name": "stdout"
        }
      ]
    },
    {
      "cell_type": "code",
      "metadata": {
        "id": "ZaWAND6RN_5N",
        "colab_type": "code",
        "colab": {
          "base_uri": "https://localhost:8080/",
          "height": 221
        },
        "outputId": "5386dca7-fcfb-4f75-d627-810e4333253b"
      },
      "source": [
        "model_2 = Model(input_tensor_2, output_tensor_2)\n",
        "model_2.summary()"
      ],
      "execution_count": null,
      "outputs": [
        {
          "output_type": "stream",
          "text": [
            "Model: \"model_1\"\n",
            "_________________________________________________________________\n",
            "Layer (type)                 Output Shape              Param #   \n",
            "=================================================================\n",
            "input_10 (InputLayer)        [(None, 32)]              0         \n",
            "_________________________________________________________________\n",
            "dense_9 (Dense)              (None, 32)                1056      \n",
            "=================================================================\n",
            "Total params: 1,056\n",
            "Trainable params: 1,056\n",
            "Non-trainable params: 0\n",
            "_________________________________________________________________\n"
          ],
          "name": "stdout"
        }
      ]
    },
    {
      "cell_type": "markdown",
      "metadata": {
        "id": "U-emUSyjOxgf",
        "colab_type": "text"
      },
      "source": [
        "# Fashion Mnist using Functional APIs"
      ]
    },
    {
      "cell_type": "code",
      "metadata": {
        "id": "w_uMo-XhOv94",
        "colab_type": "code",
        "colab": {}
      },
      "source": [
        "from tensorflow.keras.datasets import fashion_mnist\n",
        "from tensorflow.keras.utils import to_categorical\n",
        "import matplotlib.pyplot as plt"
      ],
      "execution_count": null,
      "outputs": []
    },
    {
      "cell_type": "code",
      "metadata": {
        "id": "A-INabfpPBUf",
        "colab_type": "code",
        "colab": {
          "base_uri": "https://localhost:8080/",
          "height": 153
        },
        "outputId": "5c8ef9f5-62f3-4944-9c09-7a3ad691a019"
      },
      "source": [
        "#Loading Data\n",
        "(train_images, train_labels), (test_images, test_labels) = fashion_mnist.load_data()"
      ],
      "execution_count": null,
      "outputs": [
        {
          "output_type": "stream",
          "text": [
            "Downloading data from https://storage.googleapis.com/tensorflow/tf-keras-datasets/train-labels-idx1-ubyte.gz\n",
            "32768/29515 [=================================] - 0s 0us/step\n",
            "Downloading data from https://storage.googleapis.com/tensorflow/tf-keras-datasets/train-images-idx3-ubyte.gz\n",
            "26427392/26421880 [==============================] - 0s 0us/step\n",
            "Downloading data from https://storage.googleapis.com/tensorflow/tf-keras-datasets/t10k-labels-idx1-ubyte.gz\n",
            "8192/5148 [===============================================] - 0s 0us/step\n",
            "Downloading data from https://storage.googleapis.com/tensorflow/tf-keras-datasets/t10k-images-idx3-ubyte.gz\n",
            "4423680/4422102 [==============================] - 0s 0us/step\n"
          ],
          "name": "stdout"
        }
      ]
    },
    {
      "cell_type": "code",
      "metadata": {
        "id": "nAPmtIhQPFL-",
        "colab_type": "code",
        "colab": {}
      },
      "source": [
        "train_labels = to_categorical(train_labels)\n",
        "test_labels = to_categorical(test_labels)"
      ],
      "execution_count": null,
      "outputs": []
    },
    {
      "cell_type": "code",
      "metadata": {
        "id": "i8rVk-HnPSTY",
        "colab_type": "code",
        "colab": {}
      },
      "source": [
        "# Model Creation\n",
        "input_1 = layers.Input(shape=(28, 28, 1))\n",
        "x = layers.Conv2D(32, (3, 3), activation='relu')(input_1)\n",
        "x = layers.MaxPooling2D((2, 2))(x)\n",
        "x = layers.Conv2D(64, (3, 3), activation='relu')(x)\n",
        "x = layers.MaxPooling2D((2, 2))(x)\n",
        "x = layers.Conv2D(64, (3, 3), activation='relu')(x)\n",
        "x = layers.Flatten()(x)\n",
        "x = layers.Dense(64, activation='relu')(x)\n",
        "output = layers.Dense(10, activation='softmax')(x)"
      ],
      "execution_count": null,
      "outputs": []
    },
    {
      "cell_type": "code",
      "metadata": {
        "id": "4NljM0MtQw5v",
        "colab_type": "code",
        "colab": {}
      },
      "source": [
        "#Model Compile\n",
        "model = Model(input_1, output)\n",
        "model.compile(optimizer='rmsprop', loss='categorical_crossentropy', metrics=['accuracy'])"
      ],
      "execution_count": null,
      "outputs": []
    },
    {
      "cell_type": "code",
      "metadata": {
        "id": "r9P-Ga7hRPS9",
        "colab_type": "code",
        "colab": {
          "base_uri": "https://localhost:8080/",
          "height": 187
        },
        "outputId": "043e35f7-3740-4d4a-ba3c-4567e46a592b"
      },
      "source": [
        "history = model.fit(train_images, train_labels, epochs=5, batch_size=64, validation_split=0.2)"
      ],
      "execution_count": null,
      "outputs": [
        {
          "output_type": "stream",
          "text": [
            "Epoch 1/5\n",
            "750/750 [==============================] - 39s 52ms/step - loss: 0.2847 - accuracy: 0.9006 - val_loss: 0.2895 - val_accuracy: 0.8983\n",
            "Epoch 2/5\n",
            "750/750 [==============================] - 39s 52ms/step - loss: 0.2798 - accuracy: 0.9036 - val_loss: 0.2955 - val_accuracy: 0.9013\n",
            "Epoch 3/5\n",
            "750/750 [==============================] - 39s 52ms/step - loss: 0.2821 - accuracy: 0.9029 - val_loss: 0.2935 - val_accuracy: 0.9002\n",
            "Epoch 4/5\n",
            "750/750 [==============================] - 39s 52ms/step - loss: 0.2757 - accuracy: 0.9038 - val_loss: 0.3441 - val_accuracy: 0.8866\n",
            "Epoch 5/5\n",
            "750/750 [==============================] - 39s 51ms/step - loss: 0.2828 - accuracy: 0.9037 - val_loss: 0.3374 - val_accuracy: 0.8802\n"
          ],
          "name": "stdout"
        }
      ]
    },
    {
      "cell_type": "code",
      "metadata": {
        "id": "P6t8qgMIa9SI",
        "colab_type": "code",
        "colab": {
          "base_uri": "https://localhost:8080/",
          "height": 34
        },
        "outputId": "37c70e61-c75f-44c7-e553-111ece1e7855"
      },
      "source": [
        "#Evaluate the CNN Model\n",
        "test_loss, test_acc = model.evaluate(test_images, test_labels)"
      ],
      "execution_count": null,
      "outputs": [
        {
          "output_type": "stream",
          "text": [
            "313/313 [==============================] - 3s 9ms/step - loss: 0.3811 - accuracy: 0.8703\n"
          ],
          "name": "stdout"
        }
      ]
    }
  ]
}